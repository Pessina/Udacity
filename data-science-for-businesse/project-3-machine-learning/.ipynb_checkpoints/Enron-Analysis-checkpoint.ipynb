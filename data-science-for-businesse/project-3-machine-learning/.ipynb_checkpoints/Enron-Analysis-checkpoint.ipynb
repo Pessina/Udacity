{
 "cells": [
  {
   "cell_type": "code",
   "execution_count": 1,
   "metadata": {},
   "outputs": [
    {
     "name": "stderr",
     "output_type": "stream",
     "text": [
      "/usr/local/lib/python2.7/dist-packages/sklearn/cross_validation.py:41: DeprecationWarning: This module was deprecated in version 0.18 in favor of the model_selection module into which all the refactored classes and functions are moved. Also note that the interface of the new CV iterators are different from that of this module. This module will be removed in 0.20.\n",
      "  \"This module will be removed in 0.20.\", DeprecationWarning)\n"
     ]
    }
   ],
   "source": [
    "#!/usr/bin/python\n",
    "\n",
    "import sys\n",
    "import pickle\n",
    "sys.path.append(\"../tools/\")\n",
    "\n",
    "from feature_format import featureFormat, targetFeatureSplit\n",
    "from tester import dump_classifier_and_data\n",
    "\n",
    "import numpy as np\n",
    "import pandas as pd\n",
    "import matplotlib.pyplot as plt"
   ]
  },
  {
   "cell_type": "markdown",
   "metadata": {},
   "source": [
    "<h1>Introduction</h1>\n",
    "<p>This data analysis is about one of the greatest company frauds on USA, the Enron Fraud. Here we have some public data about their employers, like salaries, bonus, emails, and person of interest (poi, that are persons that maybe are involved on the fraud).</p>\n",
    "<p>Now we will proceed to our analysis of database, and create a machine learning model to predict, who are the poi person</p>\n",
    "\n",
    "<h2>Steps</h2>\n",
    "<ol>\n",
    "    <li>Select features to analysis</li>\n",
    "    <li>Remove outliers</li>\n",
    "    <li>Create new features</li>\n",
    "    <li>Try differente machine learning models</li>\n",
    "    <li>Tune our machine learning model</li>\n",
    "</ol>\n",
    "<h3>Selecting features</h3>\n",
    "<p>To start my analysis, I dont know wich features have most impact to determine if a person is a poi or not, then I will pick all avaiable features from our database, and look at their data and use some feature selection algorithm to pick the best set of features to determine if a person is a poi or not. The algorithm selected for feature selection was SelectKBest from skleran library</p>"
   ]
  },
  {
   "cell_type": "code",
   "execution_count": 2,
   "metadata": {},
   "outputs": [],
   "source": [
    "### Task 1: Select what features you'll use.\n",
    "### features_list is a list of strings, each of which is a feature name.\n",
    "### The first feature must be \"poi\".\n",
    "# Import all features, to posterior selection\n",
    "features_list = ['poi','salary', 'deferral_payments', 'total_payments', 'loan_advances', \\\n",
    "                 'bonus', 'restricted_stock_deferred', 'deferred_income', 'total_stock_value', \\\n",
    "                 'expenses', 'exercised_stock_options', 'other', 'long_term_incentive', \\\n",
    "                 'restricted_stock', 'director_fees', 'to_messages', 'from_poi_to_this_person', \\\n",
    "                 'from_messages', 'from_this_person_to_poi', 'shared_receipt_with_poi']"
   ]
  },
  {
   "cell_type": "markdown",
   "metadata": {},
   "source": [
    "<h3>Analysing avaiable data</h3>\n",
    "<p>To turn data manipulation and vizualization easier, I imported our data dictionary into a pandas dataframe. With it done, I run info on our data frame, and we have some important data on last print, let look at it</p>\n",
    "<ul>\n",
    "    <li>We have 20 columns, but one of them is our label POI, that we will use to train our model</li>\n",
    "    <li>we have a total of 146 data points, its not a big data set, what can turn our trainning step a little complicated</li>\n",
    "    <li>Here we can check that we have a total of 18 poi person, and 128 non poi person. What is a important to note here is: if our model predict that every point is a non poi it will have a accuracy of 87%, then accuracy its not a good metric to evaluate our model performance</li>\n",
    "    <li>Some features have a great number of null values, like: loan_advances, director_fees. And maybe they aren't good features to use on our final model</li>\n",
    "</ul>"
   ]
  },
  {
   "cell_type": "code",
   "execution_count": 3,
   "metadata": {},
   "outputs": [
    {
     "name": "stdout",
     "output_type": "stream",
     "text": [
      "Number of pois 18\n",
      "\n",
      "<class 'pandas.core.frame.DataFrame'>\n",
      "Index: 146 entries, ALLEN PHILLIP K to YEAP SOON\n",
      "Data columns (total 20 columns):\n",
      "salary                       95 non-null float64\n",
      "to_messages                  86 non-null float64\n",
      "deferral_payments            39 non-null float64\n",
      "total_payments               125 non-null float64\n",
      "exercised_stock_options      102 non-null float64\n",
      "bonus                        82 non-null float64\n",
      "restricted_stock             110 non-null float64\n",
      "shared_receipt_with_poi      86 non-null float64\n",
      "restricted_stock_deferred    18 non-null float64\n",
      "total_stock_value            126 non-null float64\n",
      "expenses                     95 non-null float64\n",
      "loan_advances                4 non-null float64\n",
      "from_messages                86 non-null float64\n",
      "other                        93 non-null float64\n",
      "from_this_person_to_poi      86 non-null float64\n",
      "poi                          146 non-null bool\n",
      "director_fees                17 non-null float64\n",
      "deferred_income              49 non-null float64\n",
      "long_term_incentive          66 non-null float64\n",
      "from_poi_to_this_person      86 non-null float64\n",
      "dtypes: bool(1), float64(19)\n",
      "memory usage: 23.0+ KB\n"
     ]
    }
   ],
   "source": [
    "### Load the dictionary containing the dataset\n",
    "with open(\"final_project_dataset.pkl\", \"r\") as data_file:\n",
    "    data_dict = pickle.load(data_file)\n",
    "    \n",
    "# Load data on data frame to easir manipulation\n",
    "df = pd.DataFrame.from_dict(data_dict, orient='index')\n",
    "df = df.drop(['email_address'], axis=1)\n",
    "df.replace('NaN', np.nan, inplace = True)\n",
    "print ('Number of pois ' + str(len(df[df['poi'] == 1])) + '\\n')\n",
    "df.info()"
   ]
  },
  {
   "cell_type": "markdown",
   "metadata": {},
   "source": [
    "<h3>Removing outliers</h3>\n",
    "<p>This step is one of the most important parts to create a good machine learning model, because outliers are points that are uncommon on our data and its not good train our model with it. For the first part to find outliers, let I create a scatter plot bonus x salary</p>"
   ]
  },
  {
   "cell_type": "code",
   "execution_count": 4,
   "metadata": {},
   "outputs": [
    {
     "data": {
      "text/plain": [
       "<matplotlib.axes._subplots.AxesSubplot at 0x7f63a2297510>"
      ]
     },
     "execution_count": 4,
     "metadata": {},
     "output_type": "execute_result"
    },
    {
     "data": {
      "image/png": "[encoded data removed]",
      "text/plain": [
       "<Figure size 432x288 with 1 Axes>"
      ]
     },
     "metadata": {},
     "output_type": "display_data"
    }
   ],
   "source": [
    "### Task 2: Remove outliers\n",
    "# To better explore the outliers lets plot the data\n",
    "df.plot.scatter(x = 'salary', y = 'bonus')"
   ]
  },
  {
   "cell_type": "markdown",
   "metadata": {},
   "source": [
    "<p>Here we can check that we have a point with a salary greater than, 2.5e+7, what is a big salary even for Enron. Checking who is the owner of that salary, we get the value TOTAL, and of course we will remove it from our dataframe, becausa its not a person.</p>"
   ]
  },
  {
   "cell_type": "code",
   "execution_count": 5,
   "metadata": {},
   "outputs": [
    {
     "data": {
      "text/plain": [
       "'TOTAL'"
      ]
     },
     "execution_count": 5,
     "metadata": {},
     "output_type": "execute_result"
    }
   ],
   "source": [
    "df['salary'].idxmax()"
   ]
  },
  {
   "cell_type": "code",
   "execution_count": 6,
   "metadata": {},
   "outputs": [
    {
     "data": {
      "text/plain": [
       "<matplotlib.axes._subplots.AxesSubplot at 0x7f63a01f7b50>"
      ]
     },
     "execution_count": 6,
     "metadata": {},
     "output_type": "execute_result"
    },
    {
     "data": {
      "image/png": "[encoded data removed]",
      "text/plain": [
       "<Figure size 432x288 with 1 Axes>"
      ]
     },
     "metadata": {},
     "output_type": "display_data"
    }
   ],
   "source": [
    "df.drop('TOTAL', inplace = True)\n",
    "df.plot.scatter(x = 'salary', y = 'bonus')"
   ]
  },
  {
   "cell_type": "markdown",
   "metadata": {},
   "source": [
    "<h3>Creating new features</h3>\n",
    "<p>When I looked at our data I think one of the most important features to determine if a person is a poi or not, is the number of emails trade between him and a poi person. Lets plot this graph and look if we can find a relationship</p>"
   ]
  },
  {
   "cell_type": "code",
   "execution_count": 7,
   "metadata": {},
   "outputs": [
    {
     "data": {
      "text/plain": [
       "<matplotlib.axes._subplots.AxesSubplot at 0x7f63a0128b90>"
      ]
     },
     "execution_count": 7,
     "metadata": {},
     "output_type": "execute_result"
    },
    {
     "data": {
      "image/png": "[encoded data removed]",
      "text/plain": [
       "<Figure size 432x288 with 1 Axes>"
      ]
     },
     "metadata": {},
     "output_type": "display_data"
    }
   ],
   "source": [
    "### Task 3: Create new feature(s)\n",
    "# Lets check two features that looks like to determine if a person is a poi or not\n",
    "# The number os emails traded with pois\n",
    "ax = df[df['poi'] == False].plot.scatter(x='from_this_person_to_poi', y='from_poi_to_this_person', color='blue', label='non-poi')\n",
    "df[df['poi'] == True].plot.scatter(x='from_this_person_to_poi', y='from_poi_to_this_person', color='red', label='poi', ax=ax)"
   ]
  },
  {
   "cell_type": "markdown",
   "metadata": {},
   "source": [
    "<p>This two features doesn't looks like have a strong relationship, maybe the number of emails to and from poi are masked by the total number of emails traded. Lets calculate the percentade of the emails traded with pois and plot that graph again</p>"
   ]
  },
  {
   "cell_type": "code",
   "execution_count": 8,
   "metadata": {},
   "outputs": [
    {
     "data": {
      "text/plain": [
       "<matplotlib.axes._subplots.AxesSubplot at 0x7f63a0113fd0>"
      ]
     },
     "execution_count": 8,
     "metadata": {},
     "output_type": "execute_result"
    },
    {
     "data": {
      "image/png": "[encoded data removed]",
      "text/plain": [
       "<Figure size 432x288 with 1 Axes>"
      ]
     },
     "metadata": {},
     "output_type": "display_data"
    }
   ],
   "source": [
    "df['percentage_from_poi'] = df['from_poi_to_this_person'] / df['to_messages']\n",
    "df['percentage_to_poi'] = df['from_this_person_to_poi'] / df['from_messages']\n",
    "\n",
    "ax = df[df['poi'] == False].plot.scatter(x='percentage_from_poi', y='percentage_to_poi', color='blue', label='non-poi')\n",
    "df[df['poi'] == True].plot.scatter(x='percentage_from_poi', y='percentage_to_poi', color='red', label='poi', ax=ax)"
   ]
  },
  {
   "cell_type": "markdown",
   "metadata": {},
   "source": [
    "<p>Now we can see a better relationship betweent this two new features, poi people have a higher percentages on both features</p>\n",
    "<p>Now lets check how this features change our model prediction, without tunning our algorithms</p>"
   ]
  },
  {
   "cell_type": "markdown",
   "metadata": {},
   "source": [
    "<h3>Testing performance of dataset witt new features</h3>\n",
    "<p>After we create our new features, lets check if they are imporante to the performance of our model, to test it I choose tree algorithms to try</p>\n",
    "<ul>\n",
    "    <li>GaussinaNB</li>\n",
    "    <li>DecisonTreeClassifier</li>\n",
    "    <li>AdaBoostClassifier</li>\n",
    "</ul>\n",
    "<p>Two of them (GaussianNB, DecisionTreeClassifier) we learned on Data Science for Business course, but the third one (AdaBoostClassifier) I choose to try and learn how to use a different classifier that we havent seen on class</p>\n",
    "<p>In this step I did not tune the algorithms, I just tried them to evaluete their perfomance, on next step I will tune them and get the better one to my final model</p>"
   ]
  },
  {
   "cell_type": "code",
   "execution_count": 9,
   "metadata": {},
   "outputs": [
    {
     "name": "stdout",
     "output_type": "stream",
     "text": [
      "Values before new features:\n",
      "Gaussian NB accuracy=0.8636363636363636 precision=0.25 recall=0.25\n",
      "Decision Tree accuracy=0.8863636363636364 precision=0.4 recall=0.5\n",
      "AdaBoost accuracy=0.8863636363636364 precision=0.3333333333333333 recall=0.25\n",
      "\n",
      "Values after new features:\n",
      "Gaussian NB accuracy=0.8636363636363636 precision=0.25 recall=0.25\n",
      "Decision Tree accuracy=0.8863636363636364 precision=0.4444444444444444 recall=1.0\n",
      "AdaBoost accuracy=0.8409090909090909 precision=0.2857142857142857 recall=0.5\n"
     ]
    }
   ],
   "source": [
    "from sklearn.naive_bayes import GaussianNB\n",
    "from sklearn.ensemble import AdaBoostClassifier\n",
    "from sklearn.tree import DecisionTreeClassifier\n",
    "from sklearn.metrics import accuracy_score, precision_score, recall_score, f1_score\n",
    "from sklearn.cross_validation import train_test_split\n",
    "\n",
    "df = df.fillna(value=0.0)\n",
    "\n",
    "def evaluate_metrics (clf, features_test, labels_test):\n",
    "    accuracy = clf.score(features_test, labels_test)\n",
    "    predict = clf.predict(features_test)\n",
    "    precision = precision_score(labels_test, predict)\n",
    "    recall = recall_score(labels_test, predict)\n",
    "    return accuracy, precision, recall\n",
    "\n",
    "# Creating classifiers\n",
    "clf_gaussianNB = GaussianNB()\n",
    "clf_decision_tree = DecisionTreeClassifier(random_state=0)\n",
    "clf_ad_boost = AdaBoostClassifier()\n",
    "\n",
    "classifiers = [\n",
    "    {\n",
    "        'name': 'Gaussian NB',\n",
    "        'clf': clf_gaussianNB\n",
    "    },\n",
    "    {\n",
    "        'name': 'Decision Tree',\n",
    "        'clf': clf_decision_tree\n",
    "    },\n",
    "    {\n",
    "        'name': 'AdaBoost',\n",
    "        'clf': clf_ad_boost\n",
    "    }\n",
    "]\n",
    "\n",
    "### Getting features and labels from dataframe\n",
    "labels = df['poi'].values\n",
    "features = df.drop(['percentage_from_poi', 'percentage_to_poi', 'poi'], axis=1).values\n",
    "\n",
    "features_train, features_test, labels_train, labels_test = \\\n",
    "    train_test_split(features, labels, test_size=0.3, random_state=42)\n",
    "\n",
    "print ('Values before new features:')\n",
    "for classifier in classifiers:\n",
    "    classifier['clf'].fit(features_train, labels_train)\n",
    "    accuracy, precision, recall = evaluate_metrics(classifier['clf'], features_test, labels_test)\n",
    "    print (classifier['name'] +\\\n",
    "           ' accuracy=' + str(accuracy) +\\\n",
    "           ' precision=' + str(precision) +\\\n",
    "           ' recall=' + str(recall))\n",
    "\n",
    "### Getting features and labels from dataframe\n",
    "labels = df['poi'].values\n",
    "features = df.drop(['poi'], axis=1).values\n",
    "\n",
    "features_train, features_test, labels_train, labels_test = \\\n",
    "    train_test_split(features, labels, test_size=0.3, random_state=42)\n",
    "\n",
    "print ('\\nValues after new features:')\n",
    "for classifier in classifiers:\n",
    "    classifier['clf'].fit(features_train, labels_train)\n",
    "    accuracy, precision, recall = evaluate_metrics(classifier['clf'], features_test, labels_test)\n",
    "    print (classifier['name'] +\\\n",
    "           ' accuracy=' + str(accuracy) +\\\n",
    "           ' precision=' + str(precision) +\\\n",
    "           ' recall=' + str(recall))"
   ]
  },
  {
   "cell_type": "markdown",
   "metadata": {},
   "source": [
    "<p>Here we can check their performance on three metrics: accuracy, precision, recall. Here is importante remember, as I commented before, that accurary is not a good metric to evaluate our model performance, beucause we have much more non poi than poi people.</p>\n",
    "<p>As we cann see, I get the better performance on decision tree classifier</p>"
   ]
  },
  {
   "cell_type": "markdown",
   "metadata": {},
   "source": [
    "<h3>Tunning and selecting classifier</h3>\n",
    "<p>In this step I will try the same three classifieres used to test if the new features impact on model performance. But now to create my final model I have to select the best features and parameters to use on my model, to do it i choose the SelectKBest for feature selection, and to help me tune the classifier parameters I will use GridSearchCV, that try different combinations of parameters and return to me the best one.<p>"
   ]
  },
  {
   "cell_type": "code",
   "execution_count": 10,
   "metadata": {},
   "outputs": [
    {
     "name": "stdout",
     "output_type": "stream",
     "text": [
      "<bound method Pipeline.get_params of Pipeline(memory=None,\n",
      "     steps=[('selector', SelectKBest(k=5, score_func=<function f_classif at 0x7f639e499398>)), ('clf', GaussianNB(priors=None))])>\n"
     ]
    }
   ],
   "source": [
    "from sklearn.feature_selection import SelectKBest, f_classif\n",
    "from sklearn.model_selection import GridSearchCV\n",
    "from sklearn.feature_selection import RFECV\n",
    "from sklearn.pipeline import Pipeline\n",
    "\n",
    "### Task 4: Try a varity of classifiers\n",
    "### Please name your classifier clf for easy export below.\n",
    "### Note that if you want to do PCA or other multi-stage operations,\n",
    "### you'll need to use Pipelines. For more info:\n",
    "### http://scikit-learn.org/stable/modules/pipeline.html\n",
    "\n",
    "# Use GridSearchCV to tune and find the best parameters to my algorithm\n",
    "def tunning_clf(clf, features, labels):\n",
    "\n",
    "    selector = SelectKBest(f_classif)\n",
    "\n",
    "    pipeline = Pipeline([('selector', selector), ('clf', clf['clf'])])\n",
    "    if clf['name'] == 'Gaussian NB':\n",
    "        parameters = [\n",
    "            {\n",
    "                'selector__k': range(1, 10),\n",
    "            }\n",
    "        ]\n",
    "    if clf['name'] == 'Decision Tree':\n",
    "        parameters = [\n",
    "            {\n",
    "                'selector__k': range(1, 10),\n",
    "                'clf__min_samples_split': range(2, 10),\n",
    "            }\n",
    "        ]\n",
    "    if clf['name'] == 'AdaBoost':\n",
    "        parameters = [\n",
    "            {\n",
    "                'selector__k': range(1, 10),\n",
    "                'clf__n_estimators': range(10, 100, 10),\n",
    "            }\n",
    "        ]\n",
    "    \n",
    "        \n",
    "    grid_search = GridSearchCV(pipeline, parameters)\n",
    "    grid_search.fit(features, labels)\n",
    "    \n",
    "    return grid_search.best_estimator_\n",
    "\n",
    "# Creating classifiers\n",
    "clf_gaussianNB = GaussianNB()\n",
    "clf_decision_tree = DecisionTreeClassifier(random_state=0)\n",
    "clf_ad_boost = AdaBoostClassifier()\n",
    "\n",
    "classifiers = [\n",
    "    {\n",
    "        'name': 'Gaussian NB',\n",
    "        'clf': clf_gaussianNB\n",
    "    },\n",
    "    {\n",
    "        'name': 'Decision Tree',\n",
    "        'clf': clf_decision_tree\n",
    "    },\n",
    "    {\n",
    "        'name': 'AdaBoost',\n",
    "        'clf': clf_ad_boost\n",
    "    }\n",
    "]\n",
    "\n",
    "#Now lets select what features we will use\n",
    "labels = df['poi']\n",
    "features = df.drop(['poi'], axis=1)\n",
    "\n",
    "clf = tunning_clf(classifiers[0], features, labels)\n",
    "print(clf.get_params)\n",
    "\n",
    "clf = GaussianNB()\n",
    "\n",
    "# Selecting features with kbest\n",
    "selector = SelectKBest(f_classif, k=5)\n",
    "selector.fit_transform(features, labels)\n",
    "\n",
    "# # Filtering features from dataframe\n",
    "mask = selector.get_support()\n",
    "new_features = list(features.columns[mask])\n",
    "features_list = features_list + new_features\n",
    "features = features.loc[:, new_features]"
   ]
  },
  {
   "cell_type": "markdown",
   "metadata": {},
   "source": [
    "<h3>Results of tunning</h3>\n",
    "<p>To check their performance and select the best one, i used the script testes.py, provided on final_project, there we can check some metrics, and i choose to use Accuracy, Precision and Recall. Here its not good look just for Accuracy, because as i mention before, if the algorithm predict non poi for all entries it will have a accuracy of 87%, than the most important metric here aew Precision and Recall. Lets check them:</p>\n",
    "<p>Its good to remember that precision measure the fraction of values predicted positive, that are truly positive</p>\n",
    "<p>And recall measure the fraction of positive values that are predicted right</p>\n",
    "<p>Simplifying for both you choose a class, like poi or non poi, for the first you will divide total true positive pois, by total predicted pois. For the seconda you take all predicted pois, and divide by total pois</p>\n",
    "<ul>\n",
    "    <li>GaussianNB: </li>\n",
    "    <ul>\n",
    "        <li>Accuracy - 0.85</li>\n",
    "        <li>Precision - 0.49</li>\n",
    "        <li>Recall - 0.32</li>\n",
    "    </ul>\n",
    "    <li>Decision tree - </li>\n",
    "    <ul>\n",
    "        <li>Accuracy - 0.79</li>\n",
    "        <li>Precision - 0.28</li>\n",
    "        <li>Recall- 026</li>\n",
    "    </ul>\n",
    "    <li>AdaBoostClassifier - </li>\n",
    "    <ul>\n",
    "        <li>Accuracy - 0.83</li>\n",
    "        <li>Precision - 0.37</li>\n",
    "        <li>Recall - 0.27</li>\n",
    "    </ul>\n",
    "</ul>\n",
    "<p>As we can see the best performance was achieved with the GaussiaNB algorithm, using SelectKBest with 5 features, lets check what features it used.</p>"
   ]
  },
  {
   "cell_type": "code",
   "execution_count": 11,
   "metadata": {},
   "outputs": [
    {
     "data": {
      "text/plain": [
       "Index([u'salary', u'exercised_stock_options', u'bonus', u'total_stock_value',\n",
       "       u'percentage_to_poi'],\n",
       "      dtype='object')"
      ]
     },
     "execution_count": 11,
     "metadata": {},
     "output_type": "execute_result"
    }
   ],
   "source": [
    "### Task 5: Tune your classifier to achieve better than .3 precision and recall \n",
    "### using our testing script. Check the tester.py script in the final project\n",
    "### folder for details on the evaluation method, especially the test_classifier\n",
    "### function. Because of the small size of the dataset, the script uses\n",
    "### stratified shuffle split cross validation. For more info: \n",
    "### http://scikit-learn.org/stable/modules/generated/sklearn.cross_validation.StratifiedShuffleSplit.html\n",
    "\n",
    "# Example starting point. Try investigating other evaluation techniques!\n",
    "features_train, features_test, labels_train, labels_test = \\\n",
    "    train_test_split(features, labels, test_size=0.3, random_state=42)\n",
    "\n",
    "clf = GaussianNB()\n",
    "features_list=['poi']\n",
    "\n",
    "# Selecting features with kbest\n",
    "selector = SelectKBest(f_classif, k=5)\n",
    "selector.fit_transform(features, labels)\n",
    "\n",
    "# Filtering features from dataframe\n",
    "mask = selector.get_support()\n",
    "new_features = list(features.columns[mask])\n",
    "features_list = features_list + new_features\n",
    "features = features.loc[:, new_features]\n",
    "features.columns"
   ]
  },
  {
   "cell_type": "markdown",
   "metadata": {},
   "source": [
    "<h2>Features list used on final model</h2>\n",
    "<p>For the last step, lets check wich features our SelectKBest algorithm choose as the best to use on our final model, as we can see above, the features selected are:\n",
    "<ul>\n",
    "    <li>salary</li>\n",
    "    <li>exercised_stock_options</li>\n",
    "    <li>bonus</li>\n",
    "    <li>total_stock_value</li>\n",
    "    <li>percentage_to_poi</li>\n",
    "</ul>\n",
    "<p>For our surprise, one of the features created before, was choosen by SelectKBest, as one of the five best features of our dataframe (percentage_to_poi), what mean that our new feature increse the performance of our algorithm</p>"
   ]
  },
  {
   "cell_type": "code",
   "execution_count": 12,
   "metadata": {},
   "outputs": [],
   "source": [
    "### Task 6: Dump your classifier, dataset, and features_list so anyone can\n",
    "### check your results. You do not need to change anything below, but make sure\n",
    "### that the version of poi_id.py that you submit can be run on its own and\n",
    "### generates the necessary .pkl files for validating your results.\n",
    "my_dataset = df.to_dict(orient='index')\n",
    "dump_classifier_and_data(clf, my_dataset, features_list)"
   ]
  },
  {
   "cell_type": "code",
   "execution_count": null,
   "metadata": {},
   "outputs": [],
   "source": []
  }
 ],
 "metadata": {
  "kernelspec": {
   "display_name": "Python 2",
   "language": "python",
   "name": "python2"
  },
  "language_info": {
   "codemirror_mode": {
    "name": "ipython",
    "version": 2
   },
   "file_extension": ".py",
   "mimetype": "text/x-python",
   "name": "python",
   "nbconvert_exporter": "python",
   "pygments_lexer": "ipython2",
   "version": "2.7.15rc1"
  }
 },
 "nbformat": 4,
 "nbformat_minor": 2
}
