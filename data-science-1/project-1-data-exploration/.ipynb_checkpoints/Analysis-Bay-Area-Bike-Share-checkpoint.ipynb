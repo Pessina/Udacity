{
 "cells": [
  {
   "cell_type": "markdown",
   "metadata": {},
   "source": [
    "\n",
    "<h1 id=\"Análise-da-Bay-Area-Bike-Share\">Análise da Bay Area Bike Share<a class=\"anchor-link\" href=\"#Análise-da-Bay-Area-Bike-Share\">¶</a></h1><h2 id=\"Introdução\">Introdução<a class=\"anchor-link\" href=\"#Introdução\">¶</a></h2><blockquote><p><strong>Dica</strong>: Seções citadas como esta fornecerão instruções úteis sobre como navegar e usar um notebook do iPython.</p>\n",
    "</blockquote>\n",
    "<p><a href=\"http://www.bayareabikeshare.com/\">Bay Area Bike Share</a> é uma empresa que oferece aluguel de bicicletas on-demand para clientes em San Francisco, Redwood City, Palo Alto, Mountain View e San Jose. Os usuários podem desbloquear bicicletas de uma variedade de estações em cada cidade, e devolvê-las em qualquer estação dentro da mesma cidade. Os usuários pagam o serviço por meio de assinatura anual ou pela compra de passes de 3 dias ou 24 horas. Os usuários podem fazer um número ilimitado de viagens. Viagens com menos de trinta minutos de duração não têm custo adicional; Viagens mais longas incorrem em taxas de horas extras.</p>\n",
    "<p>Neste projeto, você vai se colocar no lugar de um analista de dados realizando uma análise exploratória sobre os dados. Você vai dar uma olhada em duas das principais partes do processo de análise de dados: limpeza de dados e análise exploratória. Mas antes que você comece a olhar os dados, pense algumas perguntas que você pode querer fazer sobre os dados. Considere, por exemplo, se você estivesse trabalhando para Bay Area Bike Share: que tipo de informação você gostaria de saber a fim de tomar decisões de negócios mais inteligentes? Ou você pode pensar se você fosse um usuário do serviço de compartilhamento de bicicletas. Que fatores podem influenciar a maneira como você gostaria de usar o serviço?</p>\n"
   ]
  },
  {
   "cell_type": "markdown",
   "metadata": {},
   "source": [
    "\n",
    "<h1 id=\"Sobre-este-projeto\">Sobre este projeto<a class=\"anchor-link\" href=\"#Sobre-este-projeto\">¶</a></h1><p>Este é o seu primeiro projeto com a Udacity. Queremos fazer com que você treine os conhecimentos aprendidos durante o curso e que entenda algumas das dificuldades que pode ter quando for aplicar os mesmos.</p>\n",
    "<p>Os principais pontos que serão verificados neste trabalho:</p>\n",
    "<ul>\n",
    "<li>Criação de dicionários e mapeamento de variáveis</li>\n",
    "<li>Uso de lógica com o <code>if</code></li>\n",
    "<li>Manipulação de dados e criação de gráficos simples com o <code>Pandas</code></li>\n",
    "</ul>\n",
    "<p><em>Como conseguir ajuda</em>: Sugerimos que tente os seguintes canais, nas seguintes ordens:</p>\n",
    "<table>\n",
    "<thead><tr>\n",
    "<th>Tipo de dúvida\\Canais</th>\n",
    "<th>Google</th>\n",
    "<th>Fórum</th>\n",
    "<th>Slack</th>\n",
    "<th>Email</th>\n",
    "</tr>\n",
    "</thead>\n",
    "<tbody>\n",
    "<tr>\n",
    "<td>Programação Pyhon e Pandas</td>\n",
    "<td>1</td>\n",
    "<td>2</td>\n",
    "<td>3</td>\n",
    "<td></td>\n",
    "</tr>\n",
    "<tr>\n",
    "<td>Requisitos do projeto</td>\n",
    "<td></td>\n",
    "<td>1</td>\n",
    "<td>2</td>\n",
    "<td>3</td>\n",
    "</tr>\n",
    "<tr>\n",
    "<td>Partes específicas do Projeto</td>\n",
    "<td></td>\n",
    "<td>1</td>\n",
    "<td>2</td>\n",
    "<td>3</td>\n",
    "</tr>\n",
    "</tbody>\n",
    "</table>\n",
    "<p>Os endereços dos canais são:</p>\n",
    "<ul>\n",
    "<li>Fórum: <a href=\"https://discussions.udacity.com/c/ndfdsi-project\">https://discussions.udacity.com/c/ndfdsi-project</a></li>\n",
    "<li>Slack: <a href=\"https://udacity-br.slack.com/messages/C5MT6E3E1\">udacity-br.slack.com</a></li>\n",
    "<li>Email: data-suporte@udacity.com</li>\n",
    "</ul>\n",
    "<p><strong>Espera-se que o estudante entregue este relatório com:</strong></p>\n",
    "<ul>\n",
    "<li>Todos os TODO feitos, pois eles são essenciais para que o código rode corretamente</li>\n",
    "<li>Todas as perguntas respondidas. Elas estão identificadas como PERGUNTA em letras grandes.</li>\n",
    "</ul>\n",
    "<p>Para entregar este projeto, vá a <a href=\"https://classroom.udacity.com/nanodegrees/nd110/parts/05e3b1e2-ff23-488f-aaec-caba12ad8ed3/modules/519425b3-ee26-4ecd-a952-f689decef51c/lessons/47133342-a203-4df9-9b9e-69b04408e089/project\">sala de aula</a> e submeta o seu <code>.ipynb</code> e um pdf, zipados.</p>\n"
   ]
  },
  {
   "cell_type": "markdown",
   "metadata": {},
   "source": [
    "\n",
    "<h1 id=\"Pergunta-1\">Pergunta 1<a class=\"anchor-link\" href=\"#Pergunta-1\">¶</a></h1><p>Escreva pelo menos duas perguntas que você acha que poderiam ser respondidas usando os dados.</p>\n"
   ]
  },
  {
   "cell_type": "markdown",
   "metadata": {},
   "source": [
    "\n",
    "<p><strong>Resposta</strong>: Qual a cidade com o maior número de usuários ? / Como é a distribuição do uso de bicicletas ao longo do dia ?</p>\n",
    "<blockquote><p><strong>Dica</strong>: Se você clicar duas vezes nesta célula, você verá o texto se alterar removendo toda a formatação. Isso permite editar este bloco de texto. Este bloco de texto é escrito usando <a href=\"http://daringfireball.net/projects/markdown/syntax\">Markdown</a>, que é uma forma de formatar texto usando cabeçalhos, links, itálico e muitas outras opções. Pressione <strong>Shift</strong> + <strong>Enter</strong> ou <strong>Shift</strong> + <strong>Retorno</strong> para voltar a mostrar o texto formatado.</p>\n",
    "</blockquote>\n"
   ]
  },
  {
   "cell_type": "markdown",
   "metadata": {},
   "source": [
    "\n",
    "<h2 id=\"Usando-visualizações-para-comunicar-resultados-em-dados\">Usando visualizações para comunicar resultados em dados<a class=\"anchor-link\" href=\"#Usando-visualizações-para-comunicar-resultados-em-dados\">¶</a></h2><p>Como um analista de dados, a capacidade de comunicar eficazmente resultados é uma parte fundamental do trabalho. Afinal, sua melhor análise é tão boa quanto sua capacidade de comunicá-la.</p>\n",
    "<p>Em 2014, Bay Area Bike Share realizou um <a href=\"http://www.bayareabikeshare.com/datachallenge-2014\">Open Data Challenge</a> para incentivar os analistas de dados a criar visualizações com base em seu conjunto de dados aberto. Você criará suas próprias visualizações neste projeto, mas primeiro, dê uma olhada no <a href=\"http://thfield.github.io/babs/index.html\">vencedor de inscrições para Melhor Análise</a> de Tyler Field. Leia todo o relatório para responder à seguinte pergunta:</p>\n"
   ]
  },
  {
   "cell_type": "markdown",
   "metadata": {},
   "source": [
    "\n",
    "<h1 id=\"Pergunta-2\">Pergunta 2<a class=\"anchor-link\" href=\"#Pergunta-2\">¶</a></h1><p>Que visualizações você acha que fornecem as idéias mais interessantes? Você é capaz de responder a uma das perguntas identificadas acima com base na análise de Tyler? Por que ou por que não?</p>\n"
   ]
  },
  {
   "cell_type": "markdown",
   "metadata": {},
   "source": [
    "\n",
    "<p><strong> Resposta </strong>: Das vizualizações apresentadas pelo Tyler, a que achei mais interessante foi a que apresentava o numero de usuários assinantes e não-assinantes utilizando as bicicletas ao longo da semana. Durante a semana o numero de assinantes era muito maior que os não-assinantes, e aos finais de semana o numero de usuários assinantes caia muito, e os não-assinantes tinham uma leve alta. O que permitiu ao Tylor concluir, junto com o gráfico de uso por horas, que os assinantes utilizam mais as bicicletas para trabalhar, e os não-assinantes usam por turismo. Uma estatística muito interessante.</p>\n",
    "<p>Primeira Pergunta: A primeira pergunta que eu realizei em relação aos dados, era qual a cidade que tinha o maior numero de usuários. E como podemos ver, logo no inicio ele ja apresenta uma vizualiação com um gráfico de pizza, mostrando que a cidade que possui o maior número de usuários é San Francisco representando uma parcela de mais de 90%, uma quantidade expressiva dos usuários. Eu realizei esta pergunta com o objetivo de saber onde a Bay Area Bike Share, predominava e tinha maior acietação pelo mercado</p>\n",
    "<p>Segunda Pergunta: A segunda pergunta foi referente ao uso de bicicletas ao longo do dia, e a análise do Tyler também responde esta pergunta, apresentando os dados em um gráfico de barras, no qual podemos vizualizar alguns dados peculiares, como os picos de usuários as 8h e 17h (horário de entrada e saida do trabalho), e também um leve alta as 12h (horário de almoço). O que nos leva a supor que as bicicletas são majoritariamente utilizadas por trabalhadores para se locomover pela cidade. Eu realizei esta pergunta com o intuito de descobrir se o horario afeta o comportamentos dos usuários.</p>\n"
   ]
  },
  {
   "cell_type": "markdown",
   "metadata": {},
   "source": [
    "\n",
    "<h2 id=\"Data-Wrangling-(Limpeza-de-Dados)\">Data Wrangling (Limpeza de Dados)<a class=\"anchor-link\" href=\"#Data-Wrangling-(Limpeza-de-Dados)\">¶</a></h2><p>Agora é a sua vez de explorar os dados. Os <a href=\"http://www.bayareabikeshare.com/open-data\">dados abertos</a> do Ano 1 e do Ano 2 da página Bay Area Bike Share já foram fornecidos com os materiais do projeto; você não precisa baixar nada extra. O dado vem em três partes: a primeira metade do Ano 1 (arquivos a partir de <code>201402</code>), a segunda metade do Ano 1 (arquivos a partir de <code>201408</code>) e todo o Ano 2 (arquivos a partir de <code>201508</code>). Existem três arquivos de dados principais associados a cada parte: dados de viagem que mostram informações sobre cada viagem no sistema (<code>*_trip_data.csv</code>), informações sobre as estações no sistema (<code>*_station_data.csv</code>) e dados meteorológicos diários para cada cidade no sistema (<code>*_weather_data.csv</code>).</p>\n",
    "<p>Ao lidar com muitos dados, pode ser útil começar trabalhando com apenas uma amostra dos dados. Desta forma, será muito mais fácil verificar se nossos passos da limpeza de dados (Data Wrangling) estão funcionando, pois nosso código demorará menos tempo para ser concluído. Uma vez que estamos satisfeitos com a forma como funcionam as coisas, podemos configurar o processo para trabalhar no conjunto de dados como um todo.</p>\n",
    "<p>Uma vez que a maior parte dos dados está contida na informação de viagem, devemos segmentar a procura de um subconjunto dos dados da viagem para nos ajudar a seguir em frente. Você começará olhando apenas o primeiro mês dos dados da viagem de bicicleta, de 2013-08-29 a 2013-09-30. O código abaixo selecionará os dados da primeira metade do primeiro ano, então escreverá o valor do primeiro mês de dados para um arquivo de saída. Este código explora o fato de que os dados são classificados por data (note que os dois primeiros dias são classificados por tempo de viagem, em vez de serem completamente cronológicos).</p>\n",
    "<p>Primeiro, carregue todos os pacotes e funções que você usará em sua análise executando a primeira célula de código abaixo. Em seguida, execute a segunda célula de código para ler um subconjunto do primeiro arquivo de dados de viagem e escrever um novo arquivo contendo apenas o subconjunto em que inicialmente estamos interessados.</p>\n",
    "<blockquote><p><strong>Dica</strong>: Você pode executar uma célula de código ou renderizar um texto em Markdown clicando na célula e usando o atalho do teclado <strong>Shift</strong> + <strong>Enter</strong> ou <strong>Shift</strong> + <strong>Return</strong>. Alternativamente, uma célula de código pode ser executada usando o botão <strong>Play</strong> na barra de ferramentas (a cima no IPython Notebook) depois de selecioná-la. Enquanto a célula estiver em execução, você verá um asterisco na mensagem à esquerda da célula, ou seja, <code>In [*]:</code>. O asterisco mudará para um número para mostrar que a execução foi concluída, Ex: <code>In [1]</code>. Se houver saída, ele aparecerá como <code>Out [1]:</code>, com um número apropriado para coincidir com o número de \"In\".</p>\n",
    "</blockquote>\n"
   ]
  },
  {
   "cell_type": "code",
   "execution_count": null,
   "metadata": {},
   "outputs": [],
   "source": [
    "\n",
    "# Importa todas as bibliotecas necessárias\n",
    "%matplotlib inline\n",
    "import csv\n",
    "from datetime import datetime\n",
    "import numpy as np\n",
    "import pandas as pd\n",
    "from babs_datacheck import question_3\n",
    "from babs_visualizations import usage_stats, usage_plot\n",
    "from IPython.display import display\n",
    "\n"
   ]
  },
  {
   "cell_type": "code",
   "execution_count": null,
   "metadata": {},
   "outputs": [],
   "source": [
    "\n",
    "# definição dos arquivos\n",
    "file_in  = '201402_trip_data.csv'\n",
    "file_out = '201309_trip_data.csv'\n",
    "\n",
    "with open(file_out, 'w') as f_out, open(file_in, 'r') as f_in:\n",
    "    # configura o leitor de csv\n",
    "    in_reader = csv.reader(f_in)\n",
    "    out_writer = csv.writer(f_out)\n",
    "\n",
    "    # escreve os dados no arquivo de saída até que a data limite seja atingida\n",
    "    while True:\n",
    "        datarow = next(in_reader)\n",
    "        # data de início de das viagens na terceira coluna no formato 'm/d/yyyy HH:MM'\n",
    "        if datarow[2][:9] == '10/1/2013':\n",
    "            break\n",
    "        out_writer.writerow(datarow)\n",
    "\n"
   ]
  },
  {
   "cell_type": "markdown",
   "metadata": {},
   "source": [
    "\n",
    "<h3 id=\"Condensando-os-Dados-de-Viagem\">Condensando os Dados de Viagem<a class=\"anchor-link\" href=\"#Condensando-os-Dados-de-Viagem\">¶</a></h3><p>O primeiro passo é analisar a estrutura do conjunto de dados para ver se há alguma limpeza de dados que devemos realizar. A célula abaixo irá ler o arquivo de dados amostrado que você criou na célula anterior. Você deve imprimir as primeiras linhas da tabela.</p>\n"
   ]
  },
  {
   "cell_type": "code",
   "execution_count": null,
   "metadata": {},
   "outputs": [],
   "source": [
    "\n",
    "sample_data = pd.read_csv('201309_trip_data.csv')\n",
    "\n",
    "# TODO: escreva o código para visualizar as primeiras linhas\n",
    "sample_data.head()\n",
    "\n"
   ]
  },
  {
   "cell_type": "markdown",
   "metadata": {},
   "source": [
    "\n",
    "<p>Nesta exploração, vamos nos concentrar nos fatores nos dados da viagem que afetam o número de viagens realizadas. Vamos focar em algumas colunas selecionadas: a duração da viagem (trip duration), hora de início (start time), terminal inicial (start terminal), terminal final (end terminal) e tipo de assinatura. O tempo de início será dividido em componentes de ano, mês e hora. Também adicionaremos uma coluna para o dia da semana e resumiremos o terminal inicial e final para ser a <em>cidade</em> de início e fim.</p>\n",
    "<p>Vamos primeiro abordar a última parte do processo de limpeza. Execute a célula de código abaixo para ver como as informações da estação estão estruturadas e observe como o código criará o mapeamento estação-cidade. Observe que o mapeamento da estação está configurado como uma função, <code>create_station_mapping()</code>. Uma vez que é possível que mais estações sejam adicionadas ou removidas ao longo do tempo, esta função nos permitirá combinar as informações da estação em todas as três partes dos nossos dados quando estivermos prontos para explorar tudo.</p>\n"
   ]
  },
  {
   "cell_type": "code",
   "execution_count": null,
   "metadata": {},
   "outputs": [],
   "source": [
    "\n",
    "# Mostra as primeiras linhas do arquivo de dados das estações\n",
    "station_info = pd.read_csv('201402_station_data.csv')\n",
    "station_info.head()\n",
    "\n"
   ]
  },
  {
   "cell_type": "markdown",
   "metadata": {},
   "source": [
    "\n",
    "<p>Preencha a função abaixo de forma que a função retorne um mapeamento entre o id da estação (<code>station_id</code>) e a cidade em que ela se encontra (<code>landmark</code>).</p>\n"
   ]
  },
  {
   "cell_type": "code",
   "execution_count": null,
   "metadata": {},
   "outputs": [],
   "source": [
    "\n",
    "# esta função será usada mais tarde para criar o mapeamento entre station e cidade\n",
    "def create_station_mapping(station_data):\n",
    "    \"\"\"\n",
    "    Cria um mapeamento (tambémm conhecido como de-para) entre a estação \n",
    "    e a cidade\n",
    "    \"\"\"\n",
    "    # TODO: Inicie esta variável de maneira correta.\n",
    "    station_map = {}\n",
    "    for data_file in station_data:\n",
    "        with open(data_file, 'r') as f_in:\n",
    "            # configura o objeto csv reader - note que está sendo usado o DictReader,\n",
    "            # que usa a primeira linha do arquivo como cabeçalho e cria as chaves\n",
    "            # do dicionário com estes valores.\n",
    "            weather_reader = csv.DictReader(f_in)\n",
    "            \n",
    "            for row in weather_reader:\n",
    "                # TODO: faça o mapeamento aqui\n",
    "                station_map [row ['station_id']] = row ['landmark']\n",
    "    return station_map\n",
    "# station_data = ['201402_station_data.csv']\n",
    "# create_station_mapping (station_data)\n",
    "\n"
   ]
  },
  {
   "cell_type": "markdown",
   "metadata": {},
   "source": [
    "\n",
    "<p>Você pode agora usar o mapeamento para condensar as viagens para as colunas selecionadas acima. Isto acontecerá na função abaixo <code>summarise_data()</code>. Nela o módulo <code>datetime</code> é usado para fazer o <strong>p</strong>arse do tempo (timestamp) em formato de strings no arquivo original para um objeto usando a função <code>strptime</code>. Este objeto permitirá a conversão para outros <strong>f</strong>ormatos de datas usando a função <code>strftime</code>. O objeto possui também outras funções que facilitam a manipulação dos dados. Veja <a href=\"http://usandopython.com.br/manipulando-data-hora-python-datetime/\">este tutorial</a> para entender um pouco melhor como trabalhar com a biblioteca.</p>\n",
    "<p>Você precisa concluir duas tarefas para completar a função <code>summarise_data()</code>. Inicialmente, você deverá realizar a operação de converter a duração das viagens de segundos para minutos. Esta é muito fácil, pois existem 60 segundos em um minuto!</p>\n",
    "<p>Na sequência, você deve criar colunas para o ano, mês, hora e dia da semana. Verifique o tutorial acima ou a <a href=\"https://docs.python.org/2/library/datetime.html#datetime-objects\">documentação para o objeto de datetime no módulo datetime</a>.</p>\n",
    "<p><strong> TODO: Encontre os atributos e métodos necessários para poder completar o código abaixo </strong></p>\n",
    "<p><em>Dica</em>: Você pode abrir uma nova caixa para testar um pedaço do código ou verificar uma variável que seja global. Caso ela esteja dentro da função, você também pode usar o comando <code>print()</code> para imprimi-la e ajudar no Debug.</p>\n"
   ]
  },
  {
   "cell_type": "code",
   "execution_count": null,
   "metadata": {},
   "outputs": [],
   "source": [
    "\n",
    "def summarise_data(trip_in, station_data, trip_out):\n",
    "    \"\"\"\n",
    "    Esta função recebe informações de viagem e estação e produz um novo\n",
    "    arquivo de dados com um resumo condensado das principais informações de viagem.Os \n",
    "    argumentos trip_in e station_data serão listas de arquivos de dados para\n",
    "    as informações da viagem e da estação enquanto trip_out especifica o local\n",
    "    para o qual os dados sumarizados serão escritos.\n",
    "    \"\"\"\n",
    "    # gera o dicionário de mapeamento entre estações e cidades\n",
    "    station_map = create_station_mapping(station_data)\n",
    "    \n",
    "    with open(trip_out, 'w') as f_out:\n",
    "        # configura o objeto de escrita de csv       \n",
    "        out_colnames = ['duration', 'start_date', 'start_year',\n",
    "                        'start_month', 'start_hour', 'weekday',\n",
    "                        'start_city', 'end_city', 'subscription_type']        \n",
    "        trip_writer = csv.DictWriter(f_out, fieldnames = out_colnames)\n",
    "        trip_writer.writeheader()\n",
    "        \n",
    "        for data_file in trip_in:\n",
    "            with open(data_file, 'r') as f_in:\n",
    "                # configura o leitor do csv\n",
    "                trip_reader = csv.DictReader(f_in)\n",
    "\n",
    "                # processa cada linha lendo uma a uma\n",
    "                for row in trip_reader:\n",
    "                    new_point = {}\n",
    "                    \n",
    "                    # converte a duração de segundos para minutos.\n",
    "                    ### TODO: Pergunta 3a: Adicione uma operação matemática       ###\n",
    "                    ### para converter a duração de segundos para minutos.  ###\n",
    "                    new_point['duration'] = str(int(row ['Duration'])/60)\n",
    "                    \n",
    "                    # reformate strings com datas para múltiplas colunas\n",
    "                    ### TODO: Pergunta 3b: Preencha os __ abaixo para criar os        ###\n",
    "                    ### campos experados nas colunas (olhe pelo nome da coluna) ###\n",
    "                    trip_date = datetime.strptime(row['Start Date'], '%m/%d/%Y %H:%M')\n",
    "                    new_point['start_date']  = trip_date.day\n",
    "                    new_point['start_year']  = trip_date.year\n",
    "                    new_point['start_month'] = trip_date.month\n",
    "                    new_point['start_hour']  = trip_date.hour\n",
    "                    new_point['weekday']     = trip_date.weekday()\n",
    "                    \n",
    "                    # TODO: mapeia o terminal de inicio e fim com o a cidade de inicio e fim\n",
    "                    new_point['start_city'] = station_map [row ['Start Terminal']]\n",
    "                    new_point['end_city'] =  station_map [row ['End Terminal']]\n",
    "                    \n",
    "                    # TODO: existem dois nomes diferentes para o mesmo campo. Trate cada um deles.\n",
    "                    if 'Subscription Type' in row:\n",
    "                        new_point['subscription_type'] = row ['Subscription Type']\n",
    "                    else:\n",
    "                        new_point['subscription_type'] = row ['Subscriber Type']\n",
    "\n",
    "                    # escreve a informação processada para o arquivo de saída.\n",
    "                    trip_writer.writerow(new_point)\n",
    "\n"
   ]
  },
  {
   "cell_type": "markdown",
   "metadata": {},
   "source": [
    "\n",
    "<h1 id=\"Pergunta-3:\">Pergunta 3:<a class=\"anchor-link\" href=\"#Pergunta-3:\">¶</a></h1><p>Execute o bloco de código abaixo para chamar a função <code>summarise_data()</code> que você terminou na célula acima. Ela usará os dados contidos nos arquivos listados nas variáveis <code>trip_in</code> e <code>station_data</code> e escreverá um novo arquivo no local especificado na variável <code>trip_out</code>. Se você executou a limpeza de dados corretamente, o bloco de código abaixo imprimirá as primeiras linhas do DataFrame e uma mensagem que verificando se as contagens de dados estão corretas.</p>\n"
   ]
  },
  {
   "cell_type": "code",
   "execution_count": null,
   "metadata": {},
   "outputs": [],
   "source": [
    "\n",
    "# processe os dados usando a função criada acima\n",
    "station_data = ['201402_station_data.csv']\n",
    "trip_in = ['201309_trip_data.csv']\n",
    "trip_out = '201309_trip_summary.csv'\n",
    "summarise_data(trip_in, station_data, trip_out)\n",
    "\n"
   ]
  },
  {
   "cell_type": "code",
   "execution_count": null,
   "metadata": {},
   "outputs": [],
   "source": [
    "\n",
    "# Carregue os dados novamente mostrando os dados\n",
    "## TODO: Complete o código para leitura dos dados no arquivo criado na função acima\n",
    "sample_data = pd.read_csv(trip_out)\n",
    "display(sample_data.head())\n",
    "\n"
   ]
  },
  {
   "cell_type": "code",
   "execution_count": null,
   "metadata": {},
   "outputs": [],
   "source": [
    "\n",
    "# Verifica o DataFrame contando o número de pontos de dados com as características de \n",
    "# tempo corretas.\n",
    "question_3(sample_data)\n",
    "\n"
   ]
  },
  {
   "cell_type": "markdown",
   "metadata": {},
   "source": [
    "\n",
    "<blockquote><p><strong>Dica</strong>: se você salvar um notebook do jupyter, a saída dos blocos de código em execução também será salva. No entanto, o estado do seu arquivo será reiniciado uma vez que uma nova sessão será iniciada. Certifique-se de que você execute todos os blocos de código necessários da sessão anterior para restabelecer variáveis e funções antes de continuar de onde você deixou na última vez.</p>\n",
    "</blockquote>\n"
   ]
  },
  {
   "cell_type": "markdown",
   "metadata": {},
   "source": [
    "\n",
    "<h2 id=\"Análise-Exploratória-de-Dados\">Análise Exploratória de Dados<a class=\"anchor-link\" href=\"#Análise-Exploratória-de-Dados\">¶</a></h2><p>Agora que você tem alguns dados salvos em um arquivo, vejamos algumas tendências iniciais nos dados. Algum código já foi escrito para você no script <a href=\"babs_visualizations.py\">babs_visualizations.py</a> para ajudar a resumir e visualizar os dados; Isso foi importado como as funções <code>usage_stats()</code> e <code>usage_plot()</code>. Nesta seção, vamos percorrer algumas das coisas que você pode fazer com as funções, e você usará as funções para você mesmo na última parte do projeto. Primeiro, execute a seguinte célula para carregar os dados. Depois preencha a célula abaixo com os comandos para verificar os dados básicos sobre os dados.</p>\n"
   ]
  },
  {
   "cell_type": "code",
   "execution_count": null,
   "metadata": {},
   "outputs": [],
   "source": [
    "\n",
    "trip_data = pd.read_csv('201309_trip_summary.csv')\n",
    "trip_data.head()\n",
    "\n"
   ]
  },
  {
   "cell_type": "code",
   "execution_count": null,
   "metadata": {},
   "outputs": [],
   "source": [
    "\n",
    "# TODO: preencha os campos com os dados de acordo com o print\n",
    "print('Existem {:d} pontos no conjunto de dados'.format(len(trip_data.axes [0])))\n",
    "print('A duração média das viagens foi de {:.2f} minutos'.format(trip_data ['duration'].mean()))\n",
    "print('A mediana das durações das viagens foi de {:.2f} minutos'.format(trip_data ['duration'].median()))\n",
    "\n",
    "# TODO: verificando os quartis\n",
    "duration_qtiles = trip_data['duration'].quantile([.25, .5, .75]).as_matrix()\n",
    "print('25% das viagens foram mais curtas do que {:.2f} minutos'.format(duration_qtiles [0]))\n",
    "print('25% das viagens foram mais compridas do que {:.2f} minutos'.format(duration_qtiles[2]))\n",
    "\n"
   ]
  },
  {
   "cell_type": "code",
   "execution_count": null,
   "metadata": {},
   "outputs": [],
   "source": [
    "\n",
    "# execute este campo para verificar os seu processamento acima.\n",
    "usage_stats(trip_data)\n",
    "\n"
   ]
  },
  {
   "cell_type": "markdown",
   "metadata": {},
   "source": [
    "\n",
    "<p>Você deve ver que há mais de 27.000 viagens no primeiro mês e que a duração média da viagem é maior do que a duração mediana da viagem (o ponto em que 50% das viagens são mais curtas e 50% são mais longas). Na verdade, a média é maior que as durações de 75% das viagens mais curtas. Isso será interessante para ver mais adiante.</p>\n",
    "<p>Vamos começar a ver como essas viagens são divididas por tipo de inscrição. Uma maneira fácil de construir uma intuição sobre os dados é traçá-los.</p>\n",
    "<p>Lembre-se que o Pandas possui maneiras de plotar os gráficos diretamente de um DataFrame. Para cada tipo de dados/análises se pode usar um tipo diferente de gráfico mais apropriado para a análise que se está fazendo.</p>\n",
    "<p>Na caixa abaixo, faça um gráfico de viagens x tipo de subscrição do tipo barras.</p>\n"
   ]
  },
  {
   "cell_type": "code",
   "execution_count": null,
   "metadata": {},
   "outputs": [],
   "source": [
    "\n",
    "# TODO: plote um gráfico de barras que mostre quantidade de viagens por subscription_type\n",
    "# lembrando que quando o comando .plot é usado, se pode escolher o tipo de gráfico usando \n",
    "# o parâmetro kind. Ex: plot(kind='bar')\n",
    "trip_data ['subscription_type'].value_counts().plot(kind='bar')\n",
    "\n"
   ]
  },
  {
   "cell_type": "markdown",
   "metadata": {},
   "source": [
    "\n",
    "<p>Para que você possa conferir se os seus gráficos estão corretos, usaremos a função <code>use_plot()</code>. O segundo argumento da função nos permite contar as viagens em uma variável selecionada, exibindo as informações em um gráfico. A expressão abaixo mostrará como deve ter ficado o seu gráfico acima.</p>\n"
   ]
  },
  {
   "cell_type": "code",
   "execution_count": null,
   "metadata": {},
   "outputs": [],
   "source": [
    "\n",
    "# como o seu gráfico deve ficar. Descomente a linha abaixo caso queira rodar este comando\n",
    "usage_plot(trip_data, 'subscription_type')\n",
    "\n"
   ]
  },
  {
   "cell_type": "markdown",
   "metadata": {},
   "source": [
    "\n",
    "<blockquote><p><em>Nota</em>: Perceba que provavelmente o seu gráfico não ficou exatamente igual, principalmente pelo título e pelo nome dos eixos. Lembre-se, estes são detalhes mas fazem toda a diferença quando você for apresentar os gráficos que você analisou. Neste Nanodegree não focaremos nestas questões, mas tenha em mente que ter os gráficos acertados é de extrema importância.</p>\n",
    "</blockquote>\n"
   ]
  },
  {
   "cell_type": "markdown",
   "metadata": {},
   "source": [
    "\n",
    "<p>Parece que existe 50% mais viagens feitas por assinantes (subscribers) no primeiro mês do que outro tipos de consumidores. Vamos tentar uma outra variável. Como é a distribuição da duração das viagens (trip duration)?</p>\n"
   ]
  },
  {
   "cell_type": "code",
   "execution_count": null,
   "metadata": {},
   "outputs": [],
   "source": [
    "\n",
    "# TODO: Faça um gráfico baseado nas durações\n",
    "trip_data ['duration'].hist()\n",
    "\n"
   ]
  },
  {
   "cell_type": "code",
   "execution_count": null,
   "metadata": {},
   "outputs": [],
   "source": [
    "\n",
    "# rode este comando abaixo caso esteja em dúvida quanto ao resultado esperado\n",
    "usage_plot(trip_data, 'duration')\n",
    "\n"
   ]
  },
  {
   "cell_type": "markdown",
   "metadata": {},
   "source": [
    "\n",
    "<p>Parece muito estranho, não é? Dê uma olhada nos valores de duração no eixo x. A maioria dos passeios deve ser de 30 minutos ou menos, uma vez que há taxas de excesso de tempo extra em uma única viagem. A primeira barra abrange durações de até 1000 minutos, ou mais de 16 horas. Com base nas estatísticas que obtivemos do <code>use_stats()</code>, deveríamos ter esperado algumas viagens com durações muito longas que levem a média a ser muito superior à mediana: o gráfico mostra isso de forma dramática, mas inútil.</p>\n",
    "<p>Ao explorar os dados, muitas vezes você precisará trabalhar com os parâmetros da função de visualização para facilitar a compreensão dos dados. É aqui que os filtros vão ajudar você. Comecemos por limitar as  viagens de menos de 60 minutos.</p>\n"
   ]
  },
  {
   "cell_type": "code",
   "execution_count": null,
   "metadata": {},
   "outputs": [],
   "source": [
    "\n",
    "# TODO: faça um gráfico de barras para os dados com duração inferior a 60 minutos.\n",
    "trip_data_sorted = pd.DataFrame({'duration' : trip_data ['duration'].sort_values()})\n",
    "index_greater_than_60 = 0\n",
    "for index in range (0, len(trip_data_sorted ['duration'])):\n",
    "    if trip_data_sorted ['duration'].iloc[index] > 60:\n",
    "        index_greater_than_60 = index\n",
    "        break\n",
    "\n",
    "trip_data_sorted ['duration'] [:index_greater_than_60].hist()\n",
    "\n"
   ]
  },
  {
   "cell_type": "code",
   "execution_count": null,
   "metadata": {},
   "outputs": [],
   "source": [
    "\n",
    "# descomente a linha abaixo para verificar o gráfico esperado.\n",
    "usage_plot(trip_data, 'duration', ['duration < 60'])\n",
    "\n"
   ]
  },
  {
   "cell_type": "markdown",
   "metadata": {},
   "source": [
    "\n",
    "<p>Isso está bem melhor! Você pode ver que a maioria das viagens têm menos de 30 minutos de duração, mas que você pode fazer mais para melhorar a apresentação. Uma vez que a duração mínima não é 0, a barra da esquerda está ligeiramente acima de 0. Nós queremos saber onde existe um limite perto dos 30 minutos, então ficará mais agradável se tivermos tamanhos de intervalos (bin sizes) e limites dos intervalos que correspondam a alguns minutos.</p>\n",
    "<p>Felizmente, o Pandas e o Matplotlib te dão a opção de resolver ester problemas. Uma das maneiras de fazê-lo é definindo qual o intervalo no eixo x (parâmetro range) e quantos intervalos desejamos (bins).</p>\n",
    "<p>No campo abaixo, faça o ajuste do gráfico para que os limites das barras se encontrem nas extremidades e que as barras tenham tamanho 5 (0, 5, 10, 15, etc). Se precisar, use a <a href=\"http://matplotlib.org/api/_as_gen/matplotlib.axes.Axes.hist.html#matplotlib.axes.Axes.hist\">documentação</a>.</p>\n"
   ]
  },
  {
   "cell_type": "code",
   "execution_count": null,
   "metadata": {},
   "outputs": [],
   "source": [
    "\n",
    "# faça o gráfico ajustado que começará no 0 e terá o bin size de 5\n",
    "trip_data_sorted ['duration'] [:index_greater_than_60].hist(bins=[x*5 for x in range(0, 13)])\n",
    "\n"
   ]
  },
  {
   "cell_type": "code",
   "execution_count": null,
   "metadata": {},
   "outputs": [],
   "source": [
    "\n",
    "# rode esta linha para verificar como deve ficar o seu gráfico\n",
    "usage_plot(trip_data, 'duration', ['duration < 60'], boundary = 0, bin_width = 5)\n",
    "\n"
   ]
  },
  {
   "cell_type": "markdown",
   "metadata": {},
   "source": [
    "\n",
    "<p>Pequenos ajustes como este podem ser pequenos mas fazem toda a diferença na entrega de um trabalho de qualidade e com atenção aos detalhes.</p>\n"
   ]
  },
  {
   "cell_type": "markdown",
   "metadata": {},
   "source": [
    "\n",
    "<h1 id=\"Pergunta-4\">Pergunta 4<a class=\"anchor-link\" href=\"#Pergunta-4\">¶</a></h1><p>Qual viagem de 5 minutos de duração tem a maior quantidade de viagens? Aproximadamente quantas viagens foram feitas nesta faixa de tempo?</p>\n",
    "<p><strong>Reposta</strong>: A viagem de 5 minutos de duração que tem maior quantidade de viagens é a faixa de 5 a 10 minutos com aproximadamente 9000 viagens</p>\n"
   ]
  },
  {
   "cell_type": "markdown",
   "metadata": {},
   "source": [
    "\n",
    "<h2 id=\"Fazendo-suas-Próprias-Análises\">Fazendo suas Próprias Análises<a class=\"anchor-link\" href=\"#Fazendo-suas-Próprias-Análises\">¶</a></h2><p>Agora que você fez alguma exploração em uma pequena amostra do conjunto de dados, é hora de avançar e reunir todos os dados em um único arquivo e ver quais tendências você pode encontrar. O código abaixo usará a mesma função <code>summarise_data()</code> para processar dados. Depois de executar a célula abaixo, você terá processado todos os dados em um único arquivo de dados. Observe que a função não exibirá qualquer saída enquanto ele é executado, e isso pode demorar um pouco para ser concluído, pois você tem muito mais dados do que a amostra com a qual você trabalhou.</p>\n"
   ]
  },
  {
   "cell_type": "code",
   "execution_count": null,
   "metadata": {},
   "outputs": [],
   "source": [
    "\n",
    "station_data = ['201402_station_data.csv',\n",
    "                '201408_station_data.csv',\n",
    "                '201508_station_data.csv' ]\n",
    "trip_in = ['201402_trip_data.csv',\n",
    "           '201408_trip_data.csv',\n",
    "           '201508_trip_data.csv' ]\n",
    "trip_out = 'babs_y1_y2_summary.csv'\n",
    "station_out = \"station_y1_y2_summary.csv\"\n",
    "\n",
    "# Esta função irá ler as informações das estações e das viagens\n",
    "# e escreverá um arquivo processado com o nome trip_out\n",
    "summarise_data(trip_in, station_data, trip_out)\n",
    "\n"
   ]
  },
  {
   "cell_type": "markdown",
   "metadata": {},
   "source": [
    "\n",
    "<p>Já que a função <code>summarise_data()</code> escreveu um arquivo de saída, a célula acima não precisa ser rodada novamente mesmo que este notebook seja fechado e uma nova sessão seja criada. Você pode simplesmente ler os dados novamente e fazer a exploração deste ponto (não esqueça de executar a parte das funções no começo do notebook caso esteja em uma nova sessão)</p>\n"
   ]
  },
  {
   "cell_type": "code",
   "execution_count": null,
   "metadata": {},
   "outputs": [],
   "source": [
    "\n",
    "trip_data = pd.read_csv('babs_y1_y2_summary.csv')\n",
    "display(trip_data.head())\n",
    "\n"
   ]
  },
  {
   "cell_type": "markdown",
   "metadata": {},
   "source": [
    "\n",
    "<h4 id=\"Agora-é-a-SUA-vez-de-fazer-a-exploração-do-dataset-(do-conjunto-de-dados)-completo.\">Agora é a SUA vez de fazer a exploração do dataset (do conjunto de dados) completo.<a class=\"anchor-link\" href=\"#Agora-é-a-SUA-vez-de-fazer-a-exploração-do-dataset-(do-conjunto-de-dados)-completo.\">¶</a></h4><p>Aproveite para fazer filtros nos dados e tentar encontrar padrões nos dados.</p>\n"
   ]
  },
  {
   "cell_type": "markdown",
   "metadata": {},
   "source": [
    "\n",
    "<p>Explore algumas variáveis diferentes usando o mesmo racional acima e tome nota de algumas tendências que você encontra. Sinta-se livre para criar células adicionais se quiser explorar o conjunto de dados de outras maneiras ou de várias maneiras.</p>\n",
    "<blockquote><p><strong>Dica</strong>: para adicionar células adicionais a um notebook, você pode usar as opções \"Inserir célula acima\" (Insert Cell Above) e \"Insert Cell Below\" na barra de menu acima. Há também um ícone na barra de ferramentas para adicionar novas células, com ícones adicionais para mover as células para cima e para baixo do documento. Por padrão, as novas células são do tipo de código; Você também pode especificar o tipo de célula (por exemplo, Código ou Markdown) das células selecionadas no menu Cell ou no menu dropdown na barra de ferramentas.</p>\n",
    "</blockquote>\n",
    "<p>Um feito com suas explorações, copie as duas visualizações que você achou mais interessantes nas células abaixo e responda as seguintes perguntas com algumas frases descrevendo o que você encontrou e por que você selecionou os números. Certifique-se de que você ajusta o número de caixas ou os limites da bandeja para que efetivamente transmitam os resultados dos dados. Sinta-se livre para complementar isso com quaisquer números adicionais gerados a partir de <code>use_stats()</code> ou coloque visualizações múltiplas para suportar suas observações.</p>\n"
   ]
  },
  {
   "cell_type": "markdown",
   "metadata": {},
   "source": [
    "\n",
    "<p>Para ver alguns outros tipos de gráficos que o matplotlib (padrão do Pandas) possui, leia <a href=\"https://www.labri.fr/perso/nrougier/teaching/matplotlib/#other-types-of-plots\">este artigo</a>.</p>\n",
    "<p>Para entender um pouco mais como e quais gráficos podem ser úteis, leia <a href=\"https://www.tableau.com/sites/default/files/media/Whitepapers/which_chart_v6_ptb.pdf\">este documento</a>. Ele lhe dará um pouco de idéia de como mostrar os dados de forma mais acertada</p>\n"
   ]
  },
  {
   "cell_type": "markdown",
   "metadata": {},
   "source": [
    "\n",
    "<h1 id=\"Pergunta-5a\">Pergunta 5a<a class=\"anchor-link\" href=\"#Pergunta-5a\">¶</a></h1><p>Explore os dados e faça um gráfico que demonstre alguma particularidade dos dados:</p>\n"
   ]
  },
  {
   "cell_type": "code",
   "execution_count": null,
   "metadata": {},
   "outputs": [],
   "source": [
    "\n",
    "# Gráfico final 1\n",
    "trip_data ['start_year'].value_counts().plot(kind='bar')\n",
    "\n"
   ]
  },
  {
   "cell_type": "markdown",
   "metadata": {},
   "source": [
    "\n",
    "<p>O que é interessante na visualização acima? Por que você a selecionou?</p>\n",
    "<p><strong>Answer</strong>: O interessantes na vizualiação acima é saber como foi o crescimento das corridas ao longo dos anos, e a selecionei por curiosidade, por interesse em saber se ela estava crescendo e ganhando mercado. Agora alguns breves comentários sobre o gráfico:</p>\n",
    "<p>O objetivo desta análise é verificar como foi o comportamento das corridas ao longo dos anos. A primeira observação a se fazer ao olhar para estes dados, é que os dados de 2015 estão incompletos, temos uma coleta até o dia 8/21/2015, o que pode ser um indicativo de porque a coluna de 2015 é menor que a de 2014.</p>\n",
    "<p>Vemos também que a empresa teve um crescimento de quase 300% nas corridas de 2013 para 2014, ja para 2015 como os dados estão incompletos não podemos fazer afirmações. Mas se a média mensal de usuários de 2015 for mantida, a empresa terá um crescimento no numero de corridas em relação ao ano anterior</p>\n"
   ]
  },
  {
   "cell_type": "markdown",
   "metadata": {},
   "source": [
    "\n",
    "<h1 id=\"Pergunta-5b\">Pergunta 5b<a class=\"anchor-link\" href=\"#Pergunta-5b\">¶</a></h1><p>Faça um gráfico que demonstre alguma particularidade dos dados:</p>\n"
   ]
  },
  {
   "cell_type": "code",
   "execution_count": null,
   "metadata": {},
   "outputs": [],
   "source": [
    "\n",
    "# Gráfico Final 2\n",
    "def summarise_data_station (station_data_in, station_out):\n",
    "\n",
    "    with open(station_out, 'w') as f_out:\n",
    "        # configura o objeto de escrita de csv       \n",
    "        out_colnames = ['station_id', 'landmark', 'installation_year_month', 'installation_day']        \n",
    "        station_writer = csv.DictWriter(f_out, fieldnames = out_colnames)\n",
    "        station_writer.writeheader()\n",
    "        \n",
    "        for data_file in station_data_in:\n",
    "            with open(data_file, 'r') as f_in:\n",
    "                # configura o leitor do csv\n",
    "                station_reader = csv.DictReader(f_in)\n",
    "\n",
    "                # processa cada linha lendo uma a uma\n",
    "                for row in station_reader:\n",
    "                    new_point = {}\n",
    "                    \n",
    "                    station_installation = datetime.strptime(row['installation'], '%m/%d/%Y')\n",
    "                    new_point['installation_day']  = station_installation.day\n",
    "                    new_point['installation_year_month']  = str(station_installation.year) + \"/\" + str(station_installation.month)\n",
    "                \n",
    "                    new_point['landmark'] =  row ['landmark']\n",
    "                    new_point['station_id'] =  row ['station_id']\n",
    "                    \n",
    "                    # escreve a informação processada para o arquivo de saída.\n",
    "                    station_writer.writerow(new_point)\n",
    "\n"
   ]
  },
  {
   "cell_type": "code",
   "execution_count": null,
   "metadata": {},
   "outputs": [],
   "source": [
    "\n",
    "summarise_data_station(station_data, station_out)\n",
    "station_data_csv = pd.read_csv('station_y1_y2_summary.csv')\n",
    "display(station_data_csv.head())\n",
    "\n"
   ]
  },
  {
   "cell_type": "code",
   "execution_count": null,
   "metadata": {},
   "outputs": [],
   "source": [
    "\n",
    "station_data_csv ['installation_year_month'].value_counts().plot(kind='bar')\n",
    "\n"
   ]
  },
  {
   "cell_type": "markdown",
   "metadata": {},
   "source": [
    "\n",
    "<p>O que é interessante na visualização acima? Por que você a selecionou?</p>\n",
    "<p><strong>Answer</strong>: O interessante na vizualização acima, é verificar como foi o processo de instalação de estações pela empresa. Eu o selecionei para verificar minhas hipóteses, de que a Bay Area Bike Share teria realizado um investimento massivo inicial, para iniciar seus serviçoes, e então propus novas hipóteses do por que ela reduziu seus investimentos em estações.</p>\n",
    "<p>A primeira delas é para verficicar se seus serviços serão aceitos pelo mercado antes de realizar uma expansão.</p>\n",
    "<p>A segunda é que a empresa após construir as estações precisa investir em marketing, para que as pessoa passem a usar seus serviços, e após criar sua marca ela poderá expandir para outras cidades, contruinod várias estações</p>\n"
   ]
  },
  {
   "cell_type": "markdown",
   "metadata": {},
   "source": [
    "\n",
    "<h2 id=\"Conclusões\">Conclusões<a class=\"anchor-link\" href=\"#Conclusões\">¶</a></h2><p>Parabéns pela conclusão do projeto! Esta é apenas uma amostragem do processo de análise de dados: gerando perguntas, limpando e explorando os dados. Normalmente, neste momento no processo de análise de dados, você pode querer tirar conclusões realizando um teste estatístico ou ajustando os dados a um modelo para fazer previsões. Há também muitas análises potenciais que podem ser realizadas se evoluirmos o código fornecido. Em vez de apenas olhar para o número de viagens no eixo de resultados, você pode ver quais recursos afetam coisas como a duração da viagem. Nós também não analisamos como os dados meteorológicos se encaixam no uso de bicicletas.</p>\n"
   ]
  },
  {
   "cell_type": "markdown",
   "metadata": {},
   "source": [
    "\n",
    "<h1 id=\"Pergunta-6\">Pergunta 6<a class=\"anchor-link\" href=\"#Pergunta-6\">¶</a></h1><p>Pense em um tópico ou campo de interesse onde você gostaria de poder aplicar as técnicas da ciência dos dados. O que você gostaria de aprender com o assunto escolhido?</p>\n",
    "<p><strong>Responda</strong>: Um campo em que gostari de aplicar a ciência de dados é para o marketing e produtos, fazendo análises específicas em bancos de usuários, para então melhorar os investimentos em marketing e predizer os produtos que os clientes de uma empresa procuram para desenvolve-los</p>\n"
   ]
  },
  {
   "cell_type": "markdown",
   "metadata": {},
   "source": [
    "\n",
    "<blockquote><p><strong>Dica</strong>: se quisermos compartilhar os resultados de nossa análise com os outros, existe uma outra opção que não é enviar o arquivo jupyter Notebook (.ipynb). Também podemos exportar a saída do Notebook de uma forma que pode ser aberto mesmo para aqueles sem o Python instalado. No menu <strong>File</strong> na parte superior esquerda, vá para o submenu <strong>Download as</strong>. Você pode então escolher um formato diferente que pode ser visto de forma mais geral, como HTML (.html) ou PDF (.pdf). Você pode precisar de pacotes adicionais ou software para executar essas exportações.</p>\n",
    "</blockquote>\n"
   ]
  }
 ],
 "metadata": {
  "kernelspec": {
   "display_name": "Python 2",
   "language": "python",
   "name": "python2"
  },
  "language_info": {
   "codemirror_mode": {
    "name": "ipython",
    "version": 2
   },
   "file_extension": ".py",
   "mimetype": "text/x-python",
   "name": "python",
   "nbconvert_exporter": "python",
   "pygments_lexer": "ipython2",
   "version": "2.7.15rc1"
  }
 },
 "nbformat": 4,
 "nbformat_minor": 1
}
